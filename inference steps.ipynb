{
 "cells": [
  {
   "cell_type": "markdown",
   "id": "4fd09685",
   "metadata": {},
   "source": [
    "# Load image"
   ]
  },
  {
   "cell_type": "code",
   "execution_count": 27,
   "id": "936f8b26",
   "metadata": {},
   "outputs": [],
   "source": [
    "def remove_transparency(im, bg_colour=(255, 255, 255)):\n",
    "\n",
    "    # Only process if image has transparency \n",
    "    if im.mode in ('RGBA', 'LA') or (im.mode == 'P' and 'transparency' in im.info):\n",
    "\n",
    "        # Need to convert to RGBA if LA format due to a bug in PIL \n",
    "        alpha = im.convert('RGBA').split()[-1]\n",
    "\n",
    "        # Create a new background image of our matt color.\n",
    "        # Must be RGBA because paste requires both images have the same format\n",
    "\n",
    "        bg = Image.new(\"RGBA\", im.size, bg_colour + (255,))\n",
    "        bg.paste(im, mask=alpha)\n",
    "        return bg\n",
    "\n",
    "    else:\n",
    "        return im"
   ]
  },
  {
   "cell_type": "code",
   "execution_count": 28,
   "id": "0b4df4c7",
   "metadata": {},
   "outputs": [],
   "source": [
    "with open('GVT999.txt') as file:\n",
    "    one_sample = file.readlines()"
   ]
  },
  {
   "cell_type": "code",
   "execution_count": 29,
   "id": "a9bcf9b9",
   "metadata": {},
   "outputs": [],
   "source": [
    "import json\n",
    "\n",
    "tests = ['Complex', 'Polygon', 'Clock', 'Memory']\n",
    "\n",
    "# for i in range(len(tests)):\n",
    "i = 2\n",
    "b64_str = json.loads(one_sample[0])[tests[i].lower()]['attempts'][-1]['image']"
   ]
  },
  {
   "cell_type": "code",
   "execution_count": 30,
   "id": "9ee97724",
   "metadata": {},
   "outputs": [
    {
     "name": "stdout",
     "output_type": "stream",
     "text": [
      "(1185, 2475, 4)\n",
      "torch.Size([1185, 2475])\n"
     ]
    }
   ],
   "source": [
    "import base64\n",
    "from PIL import Image\n",
    "import io\n",
    "import numpy as np\n",
    "\n",
    "base64_decoded = base64.b64decode(b64_str)\n",
    "image = Image.open(io.BytesIO(base64_decoded))\n",
    "print(np.array(image).shape)\n",
    "im = remove_transparency(image).convert('L')\n",
    "image_np = np.array(im)\n",
    "image_torch = torch.tensor(image_np).float()\n",
    "print(image_torch.shape)"
   ]
  },
  {
   "cell_type": "code",
   "execution_count": 31,
   "id": "ecb3e9a1",
   "metadata": {},
   "outputs": [
    {
     "data": {
      "text/plain": [
       "<matplotlib.image.AxesImage at 0x7f2da304d250>"
      ]
     },
     "execution_count": 31,
     "metadata": {},
     "output_type": "execute_result"
    },
    {
     "data": {
      "image/png": "[encoded data removed]",
      "text/plain": [
       "<Figure size 432x288 with 1 Axes>"
      ]
     },
     "metadata": {
      "needs_background": "light"
     },
     "output_type": "display_data"
    }
   ],
   "source": [
    "import matplotlib.pyplot as plt\n",
    "\n",
    "plt.imshow(image_torch)"
   ]
  },
  {
   "cell_type": "markdown",
   "id": "db5b1661",
   "metadata": {},
   "source": [
    "# Define function"
   ]
  },
  {
   "cell_type": "code",
   "execution_count": 36,
   "id": "b7c07d09",
   "metadata": {},
   "outputs": [],
   "source": [
    "def trim_whitespace(image_torch):    \n",
    "    left = 0\n",
    "    while left < image_torch.shape[1] and len(image_torch[:,left].unique()) == 1:\n",
    "        left += 1\n",
    "\n",
    "    right = image_torch.shape[1]-1\n",
    "    while right > 0 and len(image_torch[:,right].unique()) == 1:\n",
    "        right -= 1\n",
    "\n",
    "    top = 0\n",
    "    while top < image_torch.shape[0] and len(image_torch[top,:].unique()) == 1:\n",
    "        top += 1\n",
    "\n",
    "    bottom = image_torch.shape[0]-1\n",
    "    while bottom > 0 and len(image_torch[bottom,:].unique()) == 1:\n",
    "        bottom -= 1\n",
    "        \n",
    "    if top > bottom or left > right:\n",
    "        return image_torch\n",
    "        \n",
    "    return image_torch[top:bottom+1,left:right+1]"
   ]
  },
  {
   "cell_type": "code",
   "execution_count": 37,
   "id": "9c4fc006",
   "metadata": {},
   "outputs": [],
   "source": [
    "import torch\n",
    "import learn2learn as l2l\n",
    "import torch.nn as nn\n",
    "\n",
    "class Lambda(nn.Module):\n",
    "    def __init__(self, fn):\n",
    "        super(Lambda, self).__init__()\n",
    "        self.fn = fn\n",
    "\n",
    "    def forward(self, x):\n",
    "        return self.fn(x)"
   ]
  },
  {
   "cell_type": "code",
   "execution_count": 38,
   "id": "b149da1c",
   "metadata": {},
   "outputs": [],
   "source": [
    "from torchvision.transforms.functional import crop, resize\n",
    "\n",
    "def predict(image_torch):\n",
    "    image_torch_crop = trim_whitespace(image_torch).unsqueeze(0)\n",
    "    image_torch_resize = resize(image_torch_crop, (256, 256))\n",
    "\n",
    "    im_tensor = 255 - image_torch_resize.unsqueeze(0)\n",
    "    kernel_tensor = torch.ones((1, 1, 3, 3))\n",
    "    torch_result = torch.clamp(torch.nn.functional.conv2d(im_tensor, kernel_tensor, padding ='same', dilation=2), 0, 255)\n",
    "    torch_result = 255 - torch_result\n",
    "\n",
    "    device = torch.device('cpu')\n",
    "\n",
    "    hidden = 64\n",
    "    adaptation = 10\n",
    "    ways = 2\n",
    "\n",
    "\n",
    "    features = torch.nn.Sequential(l2l.nn.Lambda(lambda x: x.view(-1, 1, 256, 256)),\n",
    "                               l2l.vision.models.ConvBase(hidden=hidden, channels=1, max_pool=False, layers=5),\n",
    "                               l2l.nn.Lambda(lambda x: x.mean(dim=[2, 3])),\n",
    "                               Lambda(lambda x: x.view(-1, hidden)))\n",
    "    features.to(device)\n",
    "    features.load_state_dict(torch.load(f'adapted_weights/adapted_anil_features_{tests[i]}_2shots_20steps_64hidden.pth'.format(adaptation, hidden), map_location=device))\n",
    "    head = torch.nn.Linear(hidden, ways)\n",
    "    head = l2l.algorithms.MAML(head, lr=0.1)\n",
    "    head.to(device)\n",
    "    head.load_state_dict(torch.load(f'adapted_weights/adapted_anil_head_{tests[i]}_2shots_20steps_64hidden.pth'.format(adaptation, hidden), map_location=device))\n",
    "    _, predicted_label = torch.max(head(features(torch_result[0][0])), 1)\n",
    "    return predicted_label"
   ]
  },
  {
   "cell_type": "code",
   "execution_count": 39,
   "id": "922c2d94",
   "metadata": {},
   "outputs": [
    {
     "data": {
      "text/plain": [
       "tensor([1])"
      ]
     },
     "execution_count": 39,
     "metadata": {},
     "output_type": "execute_result"
    }
   ],
   "source": [
    "predict(image_torch)"
   ]
  },
  {
   "cell_type": "code",
   "execution_count": null,
   "id": "230d1bf3",
   "metadata": {},
   "outputs": [],
   "source": []
  },
  {
   "cell_type": "code",
   "execution_count": null,
   "id": "648c2017",
   "metadata": {},
   "outputs": [],
   "source": []
  }
 ],
 "metadata": {
  "kernelspec": {
   "display_name": "l2l",
   "language": "python",
   "name": "l2l"
  },
  "language_info": {
   "codemirror_mode": {
    "name": "ipython",
    "version": 3
   },
   "file_extension": ".py",
   "mimetype": "text/x-python",
   "name": "python",
   "nbconvert_exporter": "python",
   "pygments_lexer": "ipython3",
   "version": "3.8.10"
  }
 },
 "nbformat": 4,
 "nbformat_minor": 5
}
